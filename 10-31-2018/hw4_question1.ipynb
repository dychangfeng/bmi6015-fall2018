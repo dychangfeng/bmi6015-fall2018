{
 "cells": [
  {
   "cell_type": "markdown",
   "metadata": {},
   "source": [
    "# Question 1"
   ]
  },
  {
   "cell_type": "code",
   "execution_count": 5,
   "metadata": {},
   "outputs": [
    {
     "name": "stdout",
     "output_type": "stream",
     "text": [
      "# 0\n",
      "\n",
      "Input (scaled): \n",
      "[0.14285714 0.42857143 1.        ]\n",
      "Actual Output: \n",
      "[1. 0. 0.]\n",
      "Predicted Output: \n",
      "[0.20953649 0.28928105 0.50118246]\n",
      "\n",
      "\n",
      "# 1\n",
      "\n",
      "Input (scaled): \n",
      "[0.14285714 0.42857143 1.        ]\n",
      "Actual Output: \n",
      "[1. 0. 0.]\n",
      "Predicted Output: \n",
      "[0.44460227 0.2361194  0.31927833]\n",
      "\n",
      "\n",
      "# 2\n",
      "\n",
      "Input (scaled): \n",
      "[0.14285714 0.42857143 1.        ]\n",
      "Actual Output: \n",
      "[1. 0. 0.]\n",
      "Predicted Output: \n",
      "[0.55373912 0.19513617 0.25112471]\n",
      "\n",
      "\n",
      "# 3\n",
      "\n",
      "Input (scaled): \n",
      "[0.14285714 0.42857143 1.        ]\n",
      "Actual Output: \n",
      "[1. 0. 0.]\n",
      "Predicted Output: \n",
      "[0.62381439 0.16688792 0.20929768]\n",
      "\n",
      "\n",
      "# 4\n",
      "\n",
      "Input (scaled): \n",
      "[0.14285714 0.42857143 1.        ]\n",
      "Actual Output: \n",
      "[1. 0. 0.]\n",
      "Predicted Output: \n",
      "[0.67341084 0.1462345  0.18035466]\n",
      "\n",
      "\n",
      "# 5\n",
      "\n",
      "Input (scaled): \n",
      "[0.14285714 0.42857143 1.        ]\n",
      "Actual Output: \n",
      "[1. 0. 0.]\n",
      "Predicted Output: \n",
      "[0.71064987 0.13042359 0.15892654]\n",
      "\n",
      "\n",
      "# 6\n",
      "\n",
      "Input (scaled): \n",
      "[0.14285714 0.42857143 1.        ]\n",
      "Actual Output: \n",
      "[1. 0. 0.]\n",
      "Predicted Output: \n",
      "[0.73977592 0.1178933  0.14233077]\n",
      "\n",
      "\n",
      "# 7\n",
      "\n",
      "Input (scaled): \n",
      "[0.14285714 0.42857143 1.        ]\n",
      "Actual Output: \n",
      "[1. 0. 0.]\n",
      "Predicted Output: \n",
      "[0.76325495 0.10769406 0.12905098]\n",
      "\n",
      "\n",
      "# 8\n",
      "\n",
      "Input (scaled): \n",
      "[0.14285714 0.42857143 1.        ]\n",
      "Actual Output: \n",
      "[1. 0. 0.]\n",
      "Predicted Output: \n",
      "[0.78262878 0.09921464 0.11815658]\n",
      "\n",
      "\n",
      "# 9\n",
      "\n",
      "Input (scaled): \n",
      "[0.14285714 0.42857143 1.        ]\n",
      "Actual Output: \n",
      "[1. 0. 0.]\n",
      "Predicted Output: \n",
      "[0.79891572 0.092043   0.10904128]\n",
      "\n",
      "\n"
     ]
    }
   ],
   "source": [
    "import numpy as np\n",
    "import itertools\n",
    "\n",
    "# X = (hours studying, hours sleeping), y = score on test, xPredicted = 4 hours studying & 8 hours sleeping (input data for prediction)\n",
    "X = np.array(([1, 3, 7]), dtype=float)\n",
    "y = np.array(([1, 0, 0]), dtype=float)\n",
    "#xPredicted = np.array(([4,8,5]), dtype=float) ## test data\n",
    "# scale units\n",
    "\n",
    "X = X/X.max()\n",
    "#xPredicted=xPredicted/X.max()\n",
    "\n",
    "\n",
    "class Neural_Network(object):\n",
    "  def __init__(self, learning_rate=1, bias=np.array(([1,1,1],[1,1,1]), dtype=float)):\n",
    "    self.inputSize = 3\n",
    "    self.outputSize = 3\n",
    "    self.hiddenSize = 3\n",
    "    self.lr = learning_rate\n",
    "    self.bias = bias\n",
    "\n",
    "  #weights\n",
    "    self.W1 = np.array(([0.2, 0.3, 0.5],[0.3, 0.5, 0.7],[0.6, 0.4, 0.8]), dtype=float) # (3x3) weight matrix from input to hidden layer\n",
    "    self.W2 = np.array(([0.1,0.4,0.8],[0.3,0.7,0.2], [0.5,0.2,0.9]), dtype=float) \n",
    "    self.reset() ## call reset to reset the instance after each combinations of hyper parameters\n",
    "\n",
    "  def reset(self):\n",
    "    self.lr = self.lr\n",
    "    self.bias = np.array(([1,1,1],[1,1,1]), dtype=float)\n",
    "\n",
    "  #weights\n",
    "    self.W1 = np.array(([0.2, 0.3, 0.5],[0.3, 0.5, 0.7],[0.6, 0.4, 0.8]), dtype=float) # (3x3) weight matrix from input to hidden layer\n",
    "    self.W2 = np.array(([0.1,0.4,0.8],[0.3,0.7,0.2], [0.5,0.2,0.9]), dtype=float) # (3x3) weight matrix from hidden to output layer\n",
    "\n",
    "  def forward(self, X):\n",
    "    #forward propagation through our network\n",
    "    self.z = np.dot(X, self.W1) + self.bias[0]# dot product of X (input) and first set of 3x3 weights, return 1x3\n",
    "    self.z2 = self.sigmoid(self.z) # activation function, return 1x3\n",
    "    self.z3 = np.dot(self.z2, self.W2) + self.bias[1]# dot product of hidden layer (z2) and second set of 3x3 weights, return 1x3\n",
    "    o = self.softmax(self.z3) # final activation function, solfmax\n",
    "    return o\n",
    "\n",
    "  def sigmoid(self, s):\n",
    "    # activation function\n",
    "    return 1/(1+np.exp(-s))\n",
    "\n",
    "  def softmax(self, s):\n",
    "        exps=np.exp(s - np.max(s))\n",
    "        return exps/np.sum(exps) ## minus np.max(s) to make the solfmax more stable \n",
    "    #https://deepnotes.io/softmax-crossentropy\n",
    "    \n",
    "  def sigmoidPrime(self, s):\n",
    "    #derivative of sigmoid\n",
    "    sig=self.sigmoid(s)\n",
    "    return sig * (1 - sig)\n",
    "\n",
    "  def softmaxPrime(self,s):\n",
    "    smax = self.softmax(s)\n",
    "    return smax*(1-smax)\n",
    "\n",
    "  def cross_entropy(self,y,o):\n",
    "        return -(y*np.log(o)+(1-y)*np.log(1-o)).sum() ##\n",
    "    \n",
    "  def cross_entropyPrime(self,y,o):\n",
    "     return (o-y)/o.dot(1-o)\n",
    "\n",
    "  def backward(self, X, y, o):\n",
    "    # backward propagate through the network #)\n",
    "    self.o_error = self.cross_entropy(y,o)# error in output, one number\n",
    "    self.o_delta = self.o_error*self.cross_entropyPrime(y,o)*self.softmaxPrime(o) # applying derivative of cross_entropy, softmaxPrime to error, 1x3\n",
    "\n",
    "    self.z2_error = self.o_delta.dot(self.W2.T) # z2 error: how much our hidden layer weights contributed to output error, 1x3\n",
    "    self.z2_delta = self.z2_error*self.sigmoidPrime(self.z2) # applying derivative of sigmoid to z2 error\n",
    "\n",
    "    self.W1 -= self.lr*X.T.dot(self.z2_delta) # adjusting first set (input --> hidden) weights\n",
    "    self.W2 -= self.lr*self.z2.T.dot(self.o_delta) # adjusting second set (hidden --> output) weights\n",
    "    \n",
    "    self.bias[0]-=self.lr*self.z2_delta ## adjust error for the W1\n",
    "    self.bias[1]-=self.lr*self.o_delta ## adjust error for W2\n",
    "    \n",
    "\n",
    "  def train(self, X, y):\n",
    "    o = self.forward(X)\n",
    "    self.backward(X, y, o)\n",
    "\n",
    "  def saveWeights(self):\n",
    "    np.savetxt(\"w1_hw4.txt\", self.W1, fmt=\"%s\")\n",
    "    np.savetxt(\"w2_hw4.txt\", self.W2, fmt=\"%s\")\n",
    "\n",
    "  def predict(self):\n",
    "    print (\"Predicted data based on trained weights: \")\n",
    "    print (\"Input (scaled): \\n\" + str(xPredicted))\n",
    "    #print (\"Output: \\n\" + str(self.forward(xPredicted)));\n",
    "NN = Neural_Network()\n",
    "for i in range(0,10): # trains the NN 1,000 times\n",
    "  print(\"# \" + str(i) + \"\\n\")\n",
    "  print(\"Input (scaled): \\n\" + str(X))\n",
    "  print(\"Actual Output: \\n\" + str(y))\n",
    "  print(\"Predicted Output: \\n\" + str(NN.forward(X)))\n",
    "  print (\"\\n\")\n",
    "  NN.train(X, y)"
   ]
  },
  {
   "cell_type": "markdown",
   "metadata": {},
   "source": [
    "## Try different hyper parameters"
   ]
  },
  {
   "cell_type": "code",
   "execution_count": 6,
   "metadata": {},
   "outputs": [
    {
     "name": "stdout",
     "output_type": "stream",
     "text": [
      "Input (scaled): \n",
      "[0.14285714 0.42857143 1.        ]\n",
      "Actual Output: \n",
      "[1. 0. 0.]\n"
     ]
    }
   ],
   "source": [
    "from collections import defaultdict\n",
    "learning_rate = [0.5, 10]\n",
    "iterations = [10, 1000]\n",
    "all_loss = defaultdict(list)\n",
    "# permutations between these two parameters\n",
    "hyper_parameters = list(itertools.product(learning_rate,iterations)) \n",
    "hyper_parameters[0][1]\n",
    "print(\"Input (scaled): \\n\" + str(X))\n",
    "print(\"Actual Output: \\n\" + str(y))\n",
    "\n",
    "for p in hyper_parameters:\n",
    "    #print(\"With learning rate {} and iterations {}\".format(p[0], p[1]))\n",
    "    t = '_'.join([str(p[0]), str(p[1])])\n",
    "    NN = ''.join(['NN','t'])\n",
    "    NN = Neural_Network(learning_rate=p[0])\n",
    "    \n",
    "    for i in range(0,p[1]): # save all the loss to default dictionary\n",
    "        all_loss[t].append(NN.cross_entropy(y, NN.forward(X)))\n",
    "        NN.train(X, y)\n",
    "    NN.reset()\n",
    "      \n",
    "\n"
   ]
  },
  {
   "cell_type": "markdown",
   "metadata": {},
   "source": [
    "## Plot the loss vs. iterations at different learning rate"
   ]
  },
  {
   "cell_type": "code",
   "execution_count": 7,
   "metadata": {},
   "outputs": [],
   "source": [
    "import matplotlib.pyplot as plt\n",
    "plt.rcParams[\"font.family\"] = 'sans-serif'\n",
    "plt.rcParams['font.size'] = 16\n",
    "def plot_loss(tt, title = 'Loss change over iterations'):\n",
    "    \"\"\"tt is a 2d array to for the loss\"\"\"\n",
    "    plt.scatter(tt[:,0], tt[:,1])\n",
    "    plt.title(title)\n",
    "    plt.xlabel('Iterations')\n",
    "    plt.ylabel('Loss')\n",
    "    plt.show()\n",
    "    "
   ]
  },
  {
   "cell_type": "code",
   "execution_count": 8,
   "metadata": {},
   "outputs": [
    {
     "data": {
      "image/png": "[encoded data removed]",
      "text/plain": [
       "<Figure size 432x288 with 1 Axes>"
      ]
     },
     "metadata": {
      "needs_background": "light"
     },
     "output_type": "display_data"
    },
    {
     "data": {
      "image/png": "[encoded data removed]",
      "text/plain": [
       "<Figure size 432x288 with 1 Axes>"
      ]
     },
     "metadata": {
      "needs_background": "light"
     },
     "output_type": "display_data"
    },
    {
     "data": {
      "image/png": "[encoded data removed]",
      "text/plain": [
       "<Figure size 432x288 with 1 Axes>"
      ]
     },
     "metadata": {
      "needs_background": "light"
     },
     "output_type": "display_data"
    },
    {
     "data": {
      "image/png": "[encoded data removed]",
      "text/plain": [
       "<Figure size 432x288 with 1 Axes>"
      ]
     },
     "metadata": {
      "needs_background": "light"
     },
     "output_type": "display_data"
    }
   ],
   "source": [
    "for key in all_loss.keys():\n",
    "    tt = np.array([(i,c) for i, c in enumerate(all_loss[key])])\n",
    "    plot_loss(tt, title='With learing rate and iterations are {}'.format(key) )"
   ]
  },
  {
   "cell_type": "markdown",
   "metadata": {},
   "source": [
    "## Explaination\n",
    "With lower learning rate, it takes many more iterations to converge. This explains why 1000 iterations has a much lower loss than 10 iterations when the learning rate is 0.1.\n",
    "With a higher learning rate, the loss decreases much faster in terms of loss and we don't need that many iterations.\n"
   ]
  },
  {
   "cell_type": "markdown",
   "metadata": {},
   "source": [
    "# Question 2"
   ]
  }
 ],
 "metadata": {
  "kernelspec": {
   "display_name": "Python 3",
   "language": "python",
   "name": "python3"
  },
  "language_info": {
   "codemirror_mode": {
    "name": "ipython",
    "version": 3
   },
   "file_extension": ".py",
   "mimetype": "text/x-python",
   "name": "python",
   "nbconvert_exporter": "python",
   "pygments_lexer": "ipython3",
   "version": "3.6.6"
  }
 },
 "nbformat": 4,
 "nbformat_minor": 2
}
