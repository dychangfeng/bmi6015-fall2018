{
 "cells": [
  {
   "cell_type": "markdown",
   "metadata": {},
   "source": [
    "# Question 1"
   ]
  },
  {
   "cell_type": "code",
   "execution_count": 1,
   "metadata": {},
   "outputs": [
    {
     "name": "stdout",
     "output_type": "stream",
     "text": [
      "# 0\n",
      "\n",
      "Input (scaled): \n",
      "[0.14285714 0.42857143 1.        ]\n",
      "Actual Output: \n",
      "[1. 0. 0.]\n",
      "Predicted Output: \n",
      "[0.20953649 0.28928105 0.50118246]\n",
      "\n",
      "\n",
      "# 1\n",
      "\n",
      "Input (scaled): \n",
      "[0.14285714 0.42857143 1.        ]\n",
      "Actual Output: \n",
      "[1. 0. 0.]\n",
      "Predicted Output: \n",
      "[0.44460227 0.2361194  0.31927833]\n",
      "\n",
      "\n",
      "# 2\n",
      "\n",
      "Input (scaled): \n",
      "[0.14285714 0.42857143 1.        ]\n",
      "Actual Output: \n",
      "[1. 0. 0.]\n",
      "Predicted Output: \n",
      "[0.55373912 0.19513617 0.25112471]\n",
      "\n",
      "\n",
      "# 3\n",
      "\n",
      "Input (scaled): \n",
      "[0.14285714 0.42857143 1.        ]\n",
      "Actual Output: \n",
      "[1. 0. 0.]\n",
      "Predicted Output: \n",
      "[0.62381439 0.16688792 0.20929768]\n",
      "\n",
      "\n",
      "# 4\n",
      "\n",
      "Input (scaled): \n",
      "[0.14285714 0.42857143 1.        ]\n",
      "Actual Output: \n",
      "[1. 0. 0.]\n",
      "Predicted Output: \n",
      "[0.67341084 0.1462345  0.18035466]\n",
      "\n",
      "\n",
      "# 5\n",
      "\n",
      "Input (scaled): \n",
      "[0.14285714 0.42857143 1.        ]\n",
      "Actual Output: \n",
      "[1. 0. 0.]\n",
      "Predicted Output: \n",
      "[0.71064987 0.13042359 0.15892654]\n",
      "\n",
      "\n",
      "# 6\n",
      "\n",
      "Input (scaled): \n",
      "[0.14285714 0.42857143 1.        ]\n",
      "Actual Output: \n",
      "[1. 0. 0.]\n",
      "Predicted Output: \n",
      "[0.73977592 0.1178933  0.14233077]\n",
      "\n",
      "\n",
      "# 7\n",
      "\n",
      "Input (scaled): \n",
      "[0.14285714 0.42857143 1.        ]\n",
      "Actual Output: \n",
      "[1. 0. 0.]\n",
      "Predicted Output: \n",
      "[0.76325495 0.10769406 0.12905098]\n",
      "\n",
      "\n",
      "# 8\n",
      "\n",
      "Input (scaled): \n",
      "[0.14285714 0.42857143 1.        ]\n",
      "Actual Output: \n",
      "[1. 0. 0.]\n",
      "Predicted Output: \n",
      "[0.78262878 0.09921464 0.11815658]\n",
      "\n",
      "\n",
      "# 9\n",
      "\n",
      "Input (scaled): \n",
      "[0.14285714 0.42857143 1.        ]\n",
      "Actual Output: \n",
      "[1. 0. 0.]\n",
      "Predicted Output: \n",
      "[0.79891572 0.092043   0.10904128]\n",
      "\n",
      "\n"
     ]
    }
   ],
   "source": [
    "import numpy as np\n",
    "import itertools\n",
    "\n",
    "# X = (hours studying, hours sleeping), y = score on test, xPredicted = 4 hours studying & 8 hours sleeping (input data for prediction)\n",
    "X = np.array(([1, 3, 7]), dtype=float)\n",
    "y = np.array(([1, 0, 0]), dtype=float)\n",
    "#xPredicted = np.array(([4,8,5]), dtype=float) ## test data\n",
    "# scale units\n",
    "\n",
    "X = X/X.max()\n",
    "#xPredicted=xPredicted/X.max()\n",
    "\n",
    "\n",
    "class Neural_Network(object):\n",
    "  def __init__(self, learning_rate=1, bias=np.array(([1,1,1],[1,1,1]), dtype=float)):\n",
    "    self.inputSize = 3\n",
    "    self.outputSize = 3\n",
    "    self.hiddenSize = 3\n",
    "    self.lr = learning_rate\n",
    "    self.bias = bias\n",
    "\n",
    "  #weights\n",
    "    self.W1 = np.array(([0.2, 0.3, 0.5],[0.3, 0.5, 0.7],[0.6, 0.4, 0.8]), dtype=float) # (3x3) weight matrix from input to hidden layer\n",
    "    self.W2 = np.array(([0.1,0.4,0.8],[0.3,0.7,0.2], [0.5,0.2,0.9]), dtype=float) \n",
    "    self.reset() ## call reset to reset the instance after each combinations of hyper parameters\n",
    "\n",
    "  def reset(self):\n",
    "    self.lr = self.lr\n",
    "    self.bias = np.array(([1,1,1],[1,1,1]), dtype=float)\n",
    "\n",
    "  #weights\n",
    "    self.W1 = np.array(([0.2, 0.3, 0.5],[0.3, 0.5, 0.7],[0.6, 0.4, 0.8]), dtype=float) # (3x3) weight matrix from input to hidden layer\n",
    "    self.W2 = np.array(([0.1,0.4,0.8],[0.3,0.7,0.2], [0.5,0.2,0.9]), dtype=float) # (3x3) weight matrix from hidden to output layer\n",
    "\n",
    "  def forward(self, X):\n",
    "    #forward propagation through our network\n",
    "    self.z = np.dot(X, self.W1) + self.bias[0]# dot product of X (input) and first set of 3x3 weights, return 1x3\n",
    "    self.z2 = self.sigmoid(self.z) # activation function, return 1x3\n",
    "    self.z3 = np.dot(self.z2, self.W2) + self.bias[1]# dot product of hidden layer (z2) and second set of 3x3 weights, return 1x3\n",
    "    o = self.softmax(self.z3) # final activation function, solfmax\n",
    "    return o\n",
    "\n",
    "  def sigmoid(self, s):\n",
    "    # activation function\n",
    "    return 1/(1+np.exp(-s))\n",
    "\n",
    "  def softmax(self, s):\n",
    "        exps=np.exp(s - np.max(s))\n",
    "        return exps/np.sum(exps) ## minus np.max(s) to make the solfmax more stable \n",
    "    #https://deepnotes.io/softmax-crossentropy\n",
    "    \n",
    "  def sigmoidPrime(self, s):\n",
    "    #derivative of sigmoid\n",
    "    sig=self.sigmoid(s)\n",
    "    return sig * (1 - sig)\n",
    "\n",
    "  def softmaxPrime(self,s):\n",
    "    smax = self.softmax(s)\n",
    "    return smax*(1-smax)\n",
    "\n",
    "  def cross_entropy(self,y,o):\n",
    "        return -(y*np.log(o)+(1-y)*np.log(1-o)).sum() ##\n",
    "    \n",
    "  def cross_entropyPrime(self,y,o):\n",
    "     return (o-y)/o.dot(1-o)\n",
    "\n",
    "  def backward(self, X, y, o):\n",
    "    # backward propagate through the network #)\n",
    "    self.o_error = self.cross_entropy(y,o)# error in output, one number\n",
    "    self.o_delta = self.o_error*self.cross_entropyPrime(y,o)*self.softmaxPrime(o) # applying derivative of cross_entropy, softmaxPrime to error, 1x3\n",
    "\n",
    "    self.z2_error = self.o_delta.dot(self.W2.T) # z2 error: how much our hidden layer weights contributed to output error, 1x3\n",
    "    self.z2_delta = self.z2_error*self.sigmoidPrime(self.z2) # applying derivative of sigmoid to z2 error\n",
    "\n",
    "    self.W1 -= self.lr*X.T.dot(self.z2_delta) # adjusting first set (input --> hidden) weights\n",
    "    self.W2 -= self.lr*self.z2.T.dot(self.o_delta) # adjusting second set (hidden --> output) weights\n",
    "    \n",
    "    self.bias[0]-=self.lr*self.z2_delta ## adjust error for the W1\n",
    "    self.bias[1]-=self.lr*self.o_delta ## adjust error for W2\n",
    "    \n",
    "\n",
    "  def train(self, X, y):\n",
    "    o = self.forward(X)\n",
    "    self.backward(X, y, o)\n",
    "\n",
    "  def saveWeights(self):\n",
    "    np.savetxt(\"w1_hw4.txt\", self.W1, fmt=\"%s\")\n",
    "    np.savetxt(\"w2_hw4.txt\", self.W2, fmt=\"%s\")\n",
    "\n",
    "  def predict(self):\n",
    "    print (\"Predicted data based on trained weights: \")\n",
    "    print (\"Input (scaled): \\n\" + str(xPredicted))\n",
    "    #print (\"Output: \\n\" + str(self.forward(xPredicted)));\n",
    "NN = Neural_Network()\n",
    "for i in range(0,10): # trains the NN 1,000 times\n",
    "  print(\"# \" + str(i) + \"\\n\")\n",
    "  print(\"Input (scaled): \\n\" + str(X))\n",
    "  print(\"Actual Output: \\n\" + str(y))\n",
    "  print(\"Predicted Output: \\n\" + str(NN.forward(X)))\n",
    "  print (\"\\n\")\n",
    "  NN.train(X, y)"
   ]
  },
  {
   "cell_type": "markdown",
   "metadata": {},
   "source": [
    "## Try different hyper parameters"
   ]
  },
  {
   "cell_type": "code",
   "execution_count": 2,
   "metadata": {},
   "outputs": [
    {
     "name": "stdout",
     "output_type": "stream",
     "text": [
      "Input (scaled): \n",
      "[0.14285714 0.42857143 1.        ]\n",
      "Actual Output: \n",
      "[1. 0. 0.]\n"
     ]
    }
   ],
   "source": [
    "from collections import defaultdict\n",
    "learning_rate = [0.5, 10]\n",
    "iterations = [10, 1000]\n",
    "all_loss = defaultdict(list)\n",
    "# permutations between these two parameters\n",
    "hyper_parameters = list(itertools.product(learning_rate,iterations)) \n",
    "hyper_parameters[0][1]\n",
    "print(\"Input (scaled): \\n\" + str(X))\n",
    "print(\"Actual Output: \\n\" + str(y))\n",
    "\n",
    "for p in hyper_parameters:\n",
    "    #print(\"With learning rate {} and iterations {}\".format(p[0], p[1]))\n",
    "    t = '_'.join([str(p[0]), str(p[1])])\n",
    "    NN = ''.join(['NN','t'])\n",
    "    NN = Neural_Network(learning_rate=p[0])\n",
    "    \n",
    "    for i in range(0,p[1]): # save all the loss to default dictionary\n",
    "        all_loss[t].append(NN.cross_entropy(y, NN.forward(X)))\n",
    "        NN.train(X, y)\n",
    "    NN.reset()\n",
    "      \n",
    "\n"
   ]
  },
  {
   "cell_type": "markdown",
   "metadata": {},
   "source": [
    "## Plot the loss vs. iterations at different learning rate"
   ]
  },
  {
   "cell_type": "code",
   "execution_count": 3,
   "metadata": {},
   "outputs": [],
   "source": [
    "import matplotlib.pyplot as plt\n",
    "plt.rcParams[\"font.family\"] = 'sans-serif'\n",
    "plt.rcParams['font.size'] = 16\n",
    "def plot_loss(tt, title = 'Loss change over iterations'):\n",
    "    \"\"\"tt is a 2d array to for the loss\"\"\"\n",
    "    plt.scatter(tt[:,0], tt[:,1])\n",
    "    plt.title(title)\n",
    "    plt.xlabel('Iterations')\n",
    "    plt.ylabel('Loss')\n",
    "    plt.show()\n",
    "    "
   ]
  },
  {
   "cell_type": "code",
   "execution_count": 4,
   "metadata": {},
   "outputs": [
    {
     "data": {
      "image/png": "[encoded data removed]",
      "text/plain": [
       "<Figure size 432x288 with 1 Axes>"
      ]
     },
     "metadata": {
      "needs_background": "light"
     },
     "output_type": "display_data"
    },
    {
     "data": {
      "image/png": "[encoded data removed]",
      "text/plain": [
       "<Figure size 432x288 with 1 Axes>"
      ]
     },
     "metadata": {
      "needs_background": "light"
     },
     "output_type": "display_data"
    },
    {
     "data": {
      "image/png": "[encoded data removed]",
      "text/plain": [
       "<Figure size 432x288 with 1 Axes>"
      ]
     },
     "metadata": {
      "needs_background": "light"
     },
     "output_type": "display_data"
    },
    {
     "data": {
      "image/png": "[encoded data removed]",
      "text/plain": [
       "<Figure size 432x288 with 1 Axes>"
      ]
     },
     "metadata": {
      "needs_background": "light"
     },
     "output_type": "display_data"
    }
   ],
   "source": [
    "for key in all_loss.keys():\n",
    "    tt = np.array([(i,c) for i, c in enumerate(all_loss[key])])\n",
    "    plot_loss(tt, title='With learing rate and iterations are {}'.format(key) )"
   ]
  },
  {
   "cell_type": "markdown",
   "metadata": {},
   "source": [
    "## Explaination\n",
    "With lower learning rate, it takes many more iterations to converge. This explains why 1000 iterations has a much lower loss than 10 iterations when the learning rate is 0.1.\n",
    "With a higher learning rate, the loss decreases much faster in terms of loss and we don't need that many iterations.\n"
   ]
  },
  {
   "cell_type": "markdown",
   "metadata": {},
   "source": [
    "# Question 2"
   ]
  },
  {
   "cell_type": "code",
   "execution_count": 5,
   "metadata": {},
   "outputs": [
    {
     "name": "stdout",
     "output_type": "stream",
     "text": [
      "(768, 9)\n"
     ]
    },
    {
     "data": {
      "text/html": [
       "<div>\n",
       "<style scoped>\n",
       "    .dataframe tbody tr th:only-of-type {\n",
       "        vertical-align: middle;\n",
       "    }\n",
       "\n",
       "    .dataframe tbody tr th {\n",
       "        vertical-align: top;\n",
       "    }\n",
       "\n",
       "    .dataframe thead th {\n",
       "        text-align: right;\n",
       "    }\n",
       "</style>\n",
       "<table border=\"1\" class=\"dataframe\">\n",
       "  <thead>\n",
       "    <tr style=\"text-align: right;\">\n",
       "      <th></th>\n",
       "      <th>preg</th>\n",
       "      <th>plas</th>\n",
       "      <th>pres</th>\n",
       "      <th>skin</th>\n",
       "      <th>test</th>\n",
       "      <th>mass</th>\n",
       "      <th>pedi</th>\n",
       "      <th>age</th>\n",
       "      <th>class</th>\n",
       "    </tr>\n",
       "  </thead>\n",
       "  <tbody>\n",
       "    <tr>\n",
       "      <th>count</th>\n",
       "      <td>768.000000</td>\n",
       "      <td>768.000000</td>\n",
       "      <td>768.000000</td>\n",
       "      <td>768.000000</td>\n",
       "      <td>768.000000</td>\n",
       "      <td>768.000000</td>\n",
       "      <td>768.000000</td>\n",
       "      <td>768.000000</td>\n",
       "      <td>768.000000</td>\n",
       "    </tr>\n",
       "    <tr>\n",
       "      <th>mean</th>\n",
       "      <td>3.845052</td>\n",
       "      <td>120.894531</td>\n",
       "      <td>69.105469</td>\n",
       "      <td>20.536458</td>\n",
       "      <td>79.799479</td>\n",
       "      <td>31.992578</td>\n",
       "      <td>0.471876</td>\n",
       "      <td>33.240885</td>\n",
       "      <td>0.348958</td>\n",
       "    </tr>\n",
       "    <tr>\n",
       "      <th>std</th>\n",
       "      <td>3.369578</td>\n",
       "      <td>31.972618</td>\n",
       "      <td>19.355807</td>\n",
       "      <td>15.952218</td>\n",
       "      <td>115.244002</td>\n",
       "      <td>7.884160</td>\n",
       "      <td>0.331329</td>\n",
       "      <td>11.760232</td>\n",
       "      <td>0.476951</td>\n",
       "    </tr>\n",
       "    <tr>\n",
       "      <th>min</th>\n",
       "      <td>0.000000</td>\n",
       "      <td>0.000000</td>\n",
       "      <td>0.000000</td>\n",
       "      <td>0.000000</td>\n",
       "      <td>0.000000</td>\n",
       "      <td>0.000000</td>\n",
       "      <td>0.078000</td>\n",
       "      <td>21.000000</td>\n",
       "      <td>0.000000</td>\n",
       "    </tr>\n",
       "    <tr>\n",
       "      <th>25%</th>\n",
       "      <td>1.000000</td>\n",
       "      <td>99.000000</td>\n",
       "      <td>62.000000</td>\n",
       "      <td>0.000000</td>\n",
       "      <td>0.000000</td>\n",
       "      <td>27.300000</td>\n",
       "      <td>0.243750</td>\n",
       "      <td>24.000000</td>\n",
       "      <td>0.000000</td>\n",
       "    </tr>\n",
       "    <tr>\n",
       "      <th>50%</th>\n",
       "      <td>3.000000</td>\n",
       "      <td>117.000000</td>\n",
       "      <td>72.000000</td>\n",
       "      <td>23.000000</td>\n",
       "      <td>30.500000</td>\n",
       "      <td>32.000000</td>\n",
       "      <td>0.372500</td>\n",
       "      <td>29.000000</td>\n",
       "      <td>0.000000</td>\n",
       "    </tr>\n",
       "    <tr>\n",
       "      <th>75%</th>\n",
       "      <td>6.000000</td>\n",
       "      <td>140.250000</td>\n",
       "      <td>80.000000</td>\n",
       "      <td>32.000000</td>\n",
       "      <td>127.250000</td>\n",
       "      <td>36.600000</td>\n",
       "      <td>0.626250</td>\n",
       "      <td>41.000000</td>\n",
       "      <td>1.000000</td>\n",
       "    </tr>\n",
       "    <tr>\n",
       "      <th>max</th>\n",
       "      <td>17.000000</td>\n",
       "      <td>199.000000</td>\n",
       "      <td>122.000000</td>\n",
       "      <td>99.000000</td>\n",
       "      <td>846.000000</td>\n",
       "      <td>67.100000</td>\n",
       "      <td>2.420000</td>\n",
       "      <td>81.000000</td>\n",
       "      <td>1.000000</td>\n",
       "    </tr>\n",
       "  </tbody>\n",
       "</table>\n",
       "</div>"
      ],
      "text/plain": [
       "             preg        plas        pres        skin        test        mass  \\\n",
       "count  768.000000  768.000000  768.000000  768.000000  768.000000  768.000000   \n",
       "mean     3.845052  120.894531   69.105469   20.536458   79.799479   31.992578   \n",
       "std      3.369578   31.972618   19.355807   15.952218  115.244002    7.884160   \n",
       "min      0.000000    0.000000    0.000000    0.000000    0.000000    0.000000   \n",
       "25%      1.000000   99.000000   62.000000    0.000000    0.000000   27.300000   \n",
       "50%      3.000000  117.000000   72.000000   23.000000   30.500000   32.000000   \n",
       "75%      6.000000  140.250000   80.000000   32.000000  127.250000   36.600000   \n",
       "max     17.000000  199.000000  122.000000   99.000000  846.000000   67.100000   \n",
       "\n",
       "             pedi         age       class  \n",
       "count  768.000000  768.000000  768.000000  \n",
       "mean     0.471876   33.240885    0.348958  \n",
       "std      0.331329   11.760232    0.476951  \n",
       "min      0.078000   21.000000    0.000000  \n",
       "25%      0.243750   24.000000    0.000000  \n",
       "50%      0.372500   29.000000    0.000000  \n",
       "75%      0.626250   41.000000    1.000000  \n",
       "max      2.420000   81.000000    1.000000  "
      ]
     },
     "execution_count": 5,
     "metadata": {},
     "output_type": "execute_result"
    }
   ],
   "source": [
    "import pandas as pd\n",
    "import numpy as np\n",
    "from sklearn.preprocessing import Normalizer\n",
    "import matplotlib.pyplot as plt\n",
    "prims = pd.read_csv('files/prims.csv')\n",
    "print(prims.shape)\n",
    "prims.describe()"
   ]
  },
  {
   "cell_type": "code",
   "execution_count": 6,
   "metadata": {},
   "outputs": [
    {
     "name": "stdout",
     "output_type": "stream",
     "text": [
      "512\n",
      "(512, 9)\n",
      "[[0.034 0.828 0.403 0.196 0.    0.188 0.004 0.28 ]\n",
      " [0.008 0.716 0.556 0.244 0.    0.224 0.003 0.261]\n",
      " [0.04  0.924 0.323 0.    0.    0.118 0.003 0.162]\n",
      " [0.007 0.588 0.436 0.152 0.622 0.186 0.001 0.139]\n",
      " [0.    0.596 0.174 0.152 0.731 0.188 0.01  0.144]]\n"
     ]
    }
   ],
   "source": [
    "random_index = np.random.choice(range(prims.shape[0]), replace=False, size=prims.shape[0])\n",
    "two_third = int((2*prims.shape[0])/3)\n",
    "print(two_third)\n",
    "array = prims.values ## convert to arrays\n",
    "train = array[:two_third,:]\n",
    "test = array[:two_third, :]\n",
    "print(train.shape)\n",
    "# split trainX, trainY\n",
    "trainX = train[:,0:8]\n",
    "trainY = train[:,8]\n",
    "testX = test[:,0:8]\n",
    "testY = test[:,8]\n",
    "# normalize\n",
    "scaler = Normalizer().fit(trainX)\n",
    "normalized_trainX = scaler.transform(trainX)\n",
    "normalized_testX = scaler.transform(testX)\n",
    "\n",
    "np.set_printoptions(precision=3)\n",
    "print(normalized_trainX[0:5,:])"
   ]
  },
  {
   "cell_type": "code",
   "execution_count": null,
   "metadata": {},
   "outputs": [],
   "source": []
  },
  {
   "cell_type": "code",
   "execution_count": 7,
   "metadata": {},
   "outputs": [
    {
     "data": {
      "text/plain": [
       "numpy.float64"
      ]
     },
     "execution_count": 7,
     "metadata": {},
     "output_type": "execute_result"
    }
   ],
   "source": [
    "type(testY[0])"
   ]
  },
  {
   "cell_type": "code",
   "execution_count": 8,
   "metadata": {},
   "outputs": [
    {
     "data": {
      "text/plain": [
       "\"onehot_encoder = OneHotEncoder(sparse=False, categories='auto')\\ntrainY=trainY.reshape(len(trainY),1)\\ntestY=testY.reshape(len(testY),1)\\nprint(testY[1:5])\\ntrainY_encoded = onehot_encoder.fit_transform(trainY)\\ntestY_encoded = onehot_encoder.fit_transform(testY)\\nprint(testY_encoded.shape)\""
      ]
     },
     "execution_count": 8,
     "metadata": {},
     "output_type": "execute_result"
    }
   ],
   "source": [
    "## need one hot encoder?\n",
    "\"\"\"onehot_encoder = OneHotEncoder(sparse=False, categories='auto')\n",
    "trainY=trainY.reshape(len(trainY),1)\n",
    "testY=testY.reshape(len(testY),1)\n",
    "print(testY[1:5])\n",
    "trainY_encoded = onehot_encoder.fit_transform(trainY)\n",
    "testY_encoded = onehot_encoder.fit_transform(testY)\n",
    "print(testY_encoded.shape)\"\"\""
   ]
  },
  {
   "cell_type": "markdown",
   "metadata": {},
   "source": [
    "### split validation data from train data"
   ]
  },
  {
   "cell_type": "code",
   "execution_count": 9,
   "metadata": {},
   "outputs": [],
   "source": [
    "validation_index = int(trainX.shape[0]/5)\n",
    "validationX, left_trainX = normalized_trainX[:validation_index,:], normalized_trainX[validation_index:,:]\n",
    "validationY, left_trainY = trainY[:validation_index], trainY[validation_index:]\n"
   ]
  },
  {
   "cell_type": "code",
   "execution_count": 10,
   "metadata": {},
   "outputs": [
    {
     "data": {
      "text/plain": [
       "array([1., 0., 1., 0., 1., 0., 1., 0., 1., 1., 0., 1., 0., 1., 1., 1., 1.,\n",
       "       1., 0., 1., 0., 0., 1., 1., 1., 1., 1., 0., 0., 0., 0., 1., 0., 0.,\n",
       "       0., 0., 0., 1., 1., 1., 0., 0., 0., 1., 0., 1., 0., 0., 1., 0., 0.,\n",
       "       0., 0., 1., 0., 0., 1., 0., 0., 0., 0., 1., 0., 0., 1., 0., 1., 0.,\n",
       "       0., 0., 1., 0., 1., 0., 0., 0., 0., 0., 1., 0., 0., 0., 0., 0., 1.,\n",
       "       0., 0., 0., 1., 0., 0., 0., 0., 1., 0., 0., 0., 0., 0., 1., 1., 0.])"
      ]
     },
     "execution_count": 10,
     "metadata": {},
     "output_type": "execute_result"
    }
   ],
   "source": [
    "validationY"
   ]
  },
  {
   "cell_type": "code",
   "execution_count": 11,
   "metadata": {},
   "outputs": [
    {
     "name": "stderr",
     "output_type": "stream",
     "text": [
      "Using TensorFlow backend.\n"
     ]
    }
   ],
   "source": [
    "from keras import models\n",
    "from keras import layers\n",
    "from keras import optimizers\n",
    "def relu_advanced(x):\n",
    "    return activations.relu(x,alpha=0.0, max_value=250)\n",
    "RMSopt=optimizers.RMSprop(lr=10) # pick the best learning rate\n",
    "network =models.Sequential()\n",
    "#512 is the number of nodes\n",
    "network.add(layers.Dense(8,activation='relu',input_shape=(8,))) ## relu, give positive number or 0\n",
    "#network.add(layers.Dense(16, activation = 'relu'))\n",
    "network.add(layers.Dense(1,activation='sigmoid')) ## last layer activation \n",
    "network.compile(optimizer=RMSopt,loss='binary_crossentropy',metrics=['accuracy'])"
   ]
  },
  {
   "cell_type": "code",
   "execution_count": 12,
   "metadata": {},
   "outputs": [
    {
     "name": "stdout",
     "output_type": "stream",
     "text": [
      "_________________________________________________________________\n",
      "Layer (type)                 Output Shape              Param #   \n",
      "=================================================================\n",
      "dense_1 (Dense)              (None, 8)                 72        \n",
      "_________________________________________________________________\n",
      "dense_2 (Dense)              (None, 1)                 9         \n",
      "=================================================================\n",
      "Total params: 81\n",
      "Trainable params: 81\n",
      "Non-trainable params: 0\n",
      "_________________________________________________________________\n"
     ]
    }
   ],
   "source": [
    "network.summary()"
   ]
  },
  {
   "cell_type": "code",
   "execution_count": 13,
   "metadata": {},
   "outputs": [
    {
     "name": "stdout",
     "output_type": "stream",
     "text": [
      "Train on 410 samples, validate on 102 samples\n",
      "Epoch 1/10\n",
      "410/410 [==============================] - 0s 379us/step - loss: 5.2322 - acc: 0.6415 - val_loss: 6.0048 - val_acc: 0.6275\n",
      "Epoch 2/10\n",
      "410/410 [==============================] - 0s 27us/step - loss: 5.7789 - acc: 0.6415 - val_loss: 6.0048 - val_acc: 0.6275\n",
      "Epoch 3/10\n",
      "410/410 [==============================] - 0s 28us/step - loss: 5.7789 - acc: 0.6415 - val_loss: 6.0048 - val_acc: 0.6275\n",
      "Epoch 4/10\n",
      "410/410 [==============================] - 0s 28us/step - loss: 5.7789 - acc: 0.6415 - val_loss: 6.0048 - val_acc: 0.6275\n",
      "Epoch 5/10\n",
      "410/410 [==============================] - 0s 29us/step - loss: 5.7789 - acc: 0.6415 - val_loss: 6.0048 - val_acc: 0.6275\n",
      "Epoch 6/10\n",
      "410/410 [==============================] - 0s 24us/step - loss: 5.7789 - acc: 0.6415 - val_loss: 6.0048 - val_acc: 0.6275\n",
      "Epoch 7/10\n",
      "410/410 [==============================] - 0s 21us/step - loss: 5.7789 - acc: 0.6415 - val_loss: 6.0048 - val_acc: 0.6275\n",
      "Epoch 8/10\n",
      "410/410 [==============================] - 0s 20us/step - loss: 5.7789 - acc: 0.6415 - val_loss: 6.0048 - val_acc: 0.6275\n",
      "Epoch 9/10\n",
      "410/410 [==============================] - 0s 20us/step - loss: 5.7789 - acc: 0.6415 - val_loss: 6.0048 - val_acc: 0.6275\n",
      "Epoch 10/10\n",
      "410/410 [==============================] - 0s 20us/step - loss: 5.7789 - acc: 0.6415 - val_loss: 6.0048 - val_acc: 0.6275\n"
     ]
    }
   ],
   "source": [
    "myNN1 = network.fit(left_trainX,left_trainY,epochs=10,batch_size=50, validation_data=(validationX,validationY))"
   ]
  },
  {
   "cell_type": "code",
   "execution_count": 14,
   "metadata": {},
   "outputs": [
    {
     "data": {
      "text/plain": [
       "dict_keys(['val_loss', 'val_acc', 'loss', 'acc'])"
      ]
     },
     "execution_count": 14,
     "metadata": {},
     "output_type": "execute_result"
    }
   ],
   "source": [
    "myNN1.history.keys()"
   ]
  },
  {
   "cell_type": "code",
   "execution_count": null,
   "metadata": {},
   "outputs": [],
   "source": []
  },
  {
   "cell_type": "code",
   "execution_count": 15,
   "metadata": {},
   "outputs": [],
   "source": [
    "history_dict=myNN1.history\n",
    "loss_values=history_dict['loss']\n",
    "val_loss_values=history_dict['val_loss']\n",
    "epochs=range(1,len(loss_values)+1)"
   ]
  },
  {
   "cell_type": "code",
   "execution_count": 16,
   "metadata": {},
   "outputs": [
    {
     "name": "stdout",
     "output_type": "stream",
     "text": [
      "range(1, 11)\n",
      "[6.004780629101922, 6.004780629101922, 6.004780629101922, 6.004780629101922, 6.004780629101922, 6.004780629101922, 6.004780629101922, 6.004780629101922, 6.004780629101922, 6.004780629101922]\n"
     ]
    }
   ],
   "source": [
    "print(epochs)\n",
    "print(val_loss_values)"
   ]
  },
  {
   "cell_type": "code",
   "execution_count": 17,
   "metadata": {},
   "outputs": [
    {
     "data": {
      "text/plain": [
       "array([[0.   , 6.005],\n",
       "       [1.   , 6.005],\n",
       "       [2.   , 6.005],\n",
       "       [3.   , 6.005],\n",
       "       [4.   , 6.005],\n",
       "       [5.   , 6.005],\n",
       "       [6.   , 6.005],\n",
       "       [7.   , 6.005],\n",
       "       [8.   , 6.005],\n",
       "       [9.   , 6.005]])"
      ]
     },
     "execution_count": 17,
     "metadata": {},
     "output_type": "execute_result"
    }
   ],
   "source": [
    "val_loss = np.array([(i, c) for i, c in enumerate(val_loss_values)])\n",
    "val_loss"
   ]
  },
  {
   "cell_type": "code",
   "execution_count": 18,
   "metadata": {},
   "outputs": [
    {
     "data": {
      "image/png": "[encoded data removed]",
      "text/plain": [
       "<Figure size 432x288 with 1 Axes>"
      ]
     },
     "metadata": {
      "needs_background": "light"
     },
     "output_type": "display_data"
    }
   ],
   "source": [
    "plot_loss(val_loss)"
   ]
  },
  {
   "cell_type": "code",
   "execution_count": null,
   "metadata": {},
   "outputs": [],
   "source": [
    "\n",
    "import seaborn as sn\n",
    "#plt.plot(epochs,loss_values,'bo',label='Training loss')\n",
    "\n",
    "sn.scatterplot(val_loss[0],val_loss[1],label='Validation loss')\n",
    "\n"
   ]
  },
  {
   "cell_type": "code",
   "execution_count": null,
   "metadata": {},
   "outputs": [],
   "source": [
    "plt.title(\"Training and validation loss\")\n",
    "plt.xlabel('Epochs')\n",
    "plt.ylabel('Loss')\n",
    "#plt.legend()\n",
    "#plt.show()"
   ]
  }
 ],
 "metadata": {
  "kernelspec": {
   "display_name": "Python 3",
   "language": "python",
   "name": "python3"
  },
  "language_info": {
   "codemirror_mode": {
    "name": "ipython",
    "version": 3
   },
   "file_extension": ".py",
   "mimetype": "text/x-python",
   "name": "python",
   "nbconvert_exporter": "python",
   "pygments_lexer": "ipython3",
   "version": "3.6.6"
  }
 },
 "nbformat": 4,
 "nbformat_minor": 2
}
